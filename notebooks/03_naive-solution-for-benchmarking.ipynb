{
 "cells": [
  {
   "cell_type": "markdown",
   "metadata": {},
   "source": [
    "# Naive Solution For Benchmarking\n",
    "---\n",
    "\n",
    "## Introduction\n",
    "\n",
    "In this notebook, we are going to construct a naive solution for benchmarking which will serve us later to evaluate the prediction models we are going to build to tackle the problem studied in the current project.\n",
    "\n",
    "For that, we are going to consider a **naive prediction model**, which, for each prediction it has to perform, returns the following list of classified first booking destination country possibilities:\n",
    "\n",
    "`['NDF', 'US', 'Other', 'FR', 'IT']`\n",
    "\n",
    "As it has been observed in previous notebooks, this list corresponds to the ordered top 5 first booking destination country possibilities in the consolidated dataset considered in this project.\n",
    "\n",
    "To evaluate our models in this project, we are going to use **Normalized Discounted Cumulative Gain** (Normalized DCG) as evaluation metric. Classically used to measure effectiveness of web search engine algorithms, this metric is the one that had been chosen for Kaggle challenge, and, thus, is the one we are going to use too.\n",
    "\n",
    "To calculate it, it is necessary, first, to calculate **Discounted Cumulative Gain** (DCG): For that, if we consider a prediction situation in which the real first booking destination country is $d$, the ordered list of possibilities proposed by the considered predictor is $\\left( \\hat{d}_{i} \\right)_{i \\in \\{1, \\ldots, k\\}}$, with $k \\in \\mathbb{N}^{\\star}$ (in this current project, $k$ is fixed to 5), and if we note $\\forall i \\in \\{1, \\ldots, k\\}, rel_{i} = \\mathbb{1}_{d = \\hat{d}_{i}}$, the relevance of the prediction result at ranking $i$, then, we have:\n",
    "\n",
    "$$DCG_{k} = \\sum_{i = 1}^{k} \\frac{2^{rel_{i}} - 1}{\\log_{2}(i + 1)}$$\n",
    "\n",
    "**Normalized Discounted Cumulative Gain** (Normalized DCG) can then be calculated like this:\n",
    "\n",
    "$$nDCG_{k} = \\frac{DCG_{k}}{IDCG_{k}}$$\n",
    "\n",
    "Where $IDCG_{k}$ is the **Ideal Discounted Cumulative Gain** (Ideal DCG), the maximum possible (ideal) DCG for a given set of queries: Obviously, here, considering the exposed conditions, it is obtained, for example, with a prediction $\\left( \\hat{d}_{1} \\right)$ with $\\hat{d}_{1} = d$, which leads to $IDCG_{k} = 1$.\n",
    "\n",
    "All $nDCG_{k}$ calculations are relative values on the interval $[0, 1]$.\n",
    "\n",
    "And, as an application example, if for a particular user the destination is `FR`, then, the following predictions become:\n",
    "* (`FR`) gives: $nDCG_{5} = \\frac{DCG_{5}}{IDCG_{5}} = DCG_{5} = \\frac{2^{rel_{1}} - 1}{\\log_{2}(1 + 1)} = \\frac{2 - 1}{\\log_{2}(2)} = 1$\n",
    "* (`US`, `FR`) gives: $nDCG_{5} = \\frac{DCG_{5}}{IDCG_{5}} = DCG_{5} = \\frac{2^{rel_{1}} - 1}{\\log_{2}(1 + 1)} + \\frac{2^{rel_{2}} - 1}{\\log_{2}(2 + 1)} = \\frac{2^{0} - 1}{\\log_{2}(2)} + \\frac{2^{1} - 1}{\\log_{2}(3)} = \\frac{1}{\\log_{2}(3)} = 0.630930$\n",
    "\n",
    "As always, the prerequisite step consists on loading the appropriate packages to perform our work:"
   ]
  },
  {
   "cell_type": "code",
   "execution_count": 1,
   "metadata": {},
   "outputs": [],
   "source": [
    "# Activate 'airbnb' environment:\n",
    "!source activate airbnb"
   ]
  },
  {
   "cell_type": "code",
   "execution_count": 2,
   "metadata": {},
   "outputs": [],
   "source": [
    "# Needed packages:\n",
    "import numpy as np\n",
    "import pandas as pd\n",
    "from utils import create_training_testing_datasets, calculate_dcg, calculate_ndcg"
   ]
  },
  {
   "cell_type": "markdown",
   "metadata": {},
   "source": [
    "---\n",
    "\n",
    "## Create training and testing datasets"
   ]
  },
  {
   "cell_type": "code",
   "execution_count": 3,
   "metadata": {},
   "outputs": [
    {
     "name": "stdout",
     "output_type": "stream",
     "text": [
      "*** Some basic info:\n",
      "'consolidated_dataset' has 213451 data points with 161 variables each.\n",
      "'consolidated_dataset' counts 0 missing values.\n",
      "\n",
      "*** First lines:\n"
     ]
    },
    {
     "data": {
      "text/html": [
       "<div>\n",
       "<style scoped>\n",
       "    .dataframe tbody tr th:only-of-type {\n",
       "        vertical-align: middle;\n",
       "    }\n",
       "\n",
       "    .dataframe tbody tr th {\n",
       "        vertical-align: top;\n",
       "    }\n",
       "\n",
       "    .dataframe thead th {\n",
       "        text-align: right;\n",
       "    }\n",
       "</style>\n",
       "<table border=\"1\" class=\"dataframe\">\n",
       "  <thead>\n",
       "    <tr style=\"text-align: right;\">\n",
       "      <th></th>\n",
       "      <th>age</th>\n",
       "      <th>country_destination</th>\n",
       "      <th>nans</th>\n",
       "      <th>day_account_created</th>\n",
       "      <th>weekday_account_created</th>\n",
       "      <th>week_account_created</th>\n",
       "      <th>month_account_created</th>\n",
       "      <th>year_account_created</th>\n",
       "      <th>day_first_active</th>\n",
       "      <th>weekday_first_active</th>\n",
       "      <th>...</th>\n",
       "      <th>first_browser_SeaMonkey</th>\n",
       "      <th>first_browser_Silk</th>\n",
       "      <th>first_browser_SiteKiosk</th>\n",
       "      <th>first_browser_SlimBrowser</th>\n",
       "      <th>first_browser_Sogou Explorer</th>\n",
       "      <th>first_browser_Stainless</th>\n",
       "      <th>first_browser_TenFourFox</th>\n",
       "      <th>first_browser_TheWorld Browser</th>\n",
       "      <th>first_browser_Yandex.Browser</th>\n",
       "      <th>first_browser_wOSBrowser</th>\n",
       "    </tr>\n",
       "  </thead>\n",
       "  <tbody>\n",
       "    <tr>\n",
       "      <th>0</th>\n",
       "      <td>-1.0</td>\n",
       "      <td>NDF</td>\n",
       "      <td>1.225078</td>\n",
       "      <td>28</td>\n",
       "      <td>0</td>\n",
       "      <td>26</td>\n",
       "      <td>6</td>\n",
       "      <td>2010</td>\n",
       "      <td>19</td>\n",
       "      <td>3</td>\n",
       "      <td>...</td>\n",
       "      <td>0</td>\n",
       "      <td>0</td>\n",
       "      <td>0</td>\n",
       "      <td>0</td>\n",
       "      <td>0</td>\n",
       "      <td>0</td>\n",
       "      <td>0</td>\n",
       "      <td>0</td>\n",
       "      <td>0</td>\n",
       "      <td>0</td>\n",
       "    </tr>\n",
       "    <tr>\n",
       "      <th>1</th>\n",
       "      <td>38.0</td>\n",
       "      <td>NDF</td>\n",
       "      <td>-0.453135</td>\n",
       "      <td>25</td>\n",
       "      <td>2</td>\n",
       "      <td>21</td>\n",
       "      <td>5</td>\n",
       "      <td>2011</td>\n",
       "      <td>23</td>\n",
       "      <td>5</td>\n",
       "      <td>...</td>\n",
       "      <td>0</td>\n",
       "      <td>0</td>\n",
       "      <td>0</td>\n",
       "      <td>0</td>\n",
       "      <td>0</td>\n",
       "      <td>0</td>\n",
       "      <td>0</td>\n",
       "      <td>0</td>\n",
       "      <td>0</td>\n",
       "      <td>0</td>\n",
       "    </tr>\n",
       "    <tr>\n",
       "      <th>2</th>\n",
       "      <td>56.0</td>\n",
       "      <td>US</td>\n",
       "      <td>-0.453135</td>\n",
       "      <td>28</td>\n",
       "      <td>1</td>\n",
       "      <td>39</td>\n",
       "      <td>9</td>\n",
       "      <td>2010</td>\n",
       "      <td>9</td>\n",
       "      <td>1</td>\n",
       "      <td>...</td>\n",
       "      <td>0</td>\n",
       "      <td>0</td>\n",
       "      <td>0</td>\n",
       "      <td>0</td>\n",
       "      <td>0</td>\n",
       "      <td>0</td>\n",
       "      <td>0</td>\n",
       "      <td>0</td>\n",
       "      <td>0</td>\n",
       "      <td>0</td>\n",
       "    </tr>\n",
       "    <tr>\n",
       "      <th>3</th>\n",
       "      <td>42.0</td>\n",
       "      <td>other</td>\n",
       "      <td>-0.453135</td>\n",
       "      <td>5</td>\n",
       "      <td>0</td>\n",
       "      <td>49</td>\n",
       "      <td>12</td>\n",
       "      <td>2011</td>\n",
       "      <td>31</td>\n",
       "      <td>5</td>\n",
       "      <td>...</td>\n",
       "      <td>0</td>\n",
       "      <td>0</td>\n",
       "      <td>0</td>\n",
       "      <td>0</td>\n",
       "      <td>0</td>\n",
       "      <td>0</td>\n",
       "      <td>0</td>\n",
       "      <td>0</td>\n",
       "      <td>0</td>\n",
       "      <td>0</td>\n",
       "    </tr>\n",
       "    <tr>\n",
       "      <th>4</th>\n",
       "      <td>41.0</td>\n",
       "      <td>US</td>\n",
       "      <td>0.385972</td>\n",
       "      <td>14</td>\n",
       "      <td>1</td>\n",
       "      <td>37</td>\n",
       "      <td>9</td>\n",
       "      <td>2010</td>\n",
       "      <td>8</td>\n",
       "      <td>1</td>\n",
       "      <td>...</td>\n",
       "      <td>0</td>\n",
       "      <td>0</td>\n",
       "      <td>0</td>\n",
       "      <td>0</td>\n",
       "      <td>0</td>\n",
       "      <td>0</td>\n",
       "      <td>0</td>\n",
       "      <td>0</td>\n",
       "      <td>0</td>\n",
       "      <td>0</td>\n",
       "    </tr>\n",
       "  </tbody>\n",
       "</table>\n",
       "<p>5 rows × 161 columns</p>\n",
       "</div>"
      ],
      "text/plain": [
       "    age country_destination      nans  day_account_created  \\\n",
       "0  -1.0                 NDF  1.225078                   28   \n",
       "1  38.0                 NDF -0.453135                   25   \n",
       "2  56.0                  US -0.453135                   28   \n",
       "3  42.0               other -0.453135                    5   \n",
       "4  41.0                  US  0.385972                   14   \n",
       "\n",
       "   weekday_account_created  week_account_created  month_account_created  \\\n",
       "0                        0                    26                      6   \n",
       "1                        2                    21                      5   \n",
       "2                        1                    39                      9   \n",
       "3                        0                    49                     12   \n",
       "4                        1                    37                      9   \n",
       "\n",
       "   year_account_created  day_first_active  weekday_first_active  ...  \\\n",
       "0                  2010                19                     3  ...   \n",
       "1                  2011                23                     5  ...   \n",
       "2                  2010                 9                     1  ...   \n",
       "3                  2011                31                     5  ...   \n",
       "4                  2010                 8                     1  ...   \n",
       "\n",
       "   first_browser_SeaMonkey  first_browser_Silk  first_browser_SiteKiosk  \\\n",
       "0                        0                   0                        0   \n",
       "1                        0                   0                        0   \n",
       "2                        0                   0                        0   \n",
       "3                        0                   0                        0   \n",
       "4                        0                   0                        0   \n",
       "\n",
       "   first_browser_SlimBrowser  first_browser_Sogou Explorer  \\\n",
       "0                          0                             0   \n",
       "1                          0                             0   \n",
       "2                          0                             0   \n",
       "3                          0                             0   \n",
       "4                          0                             0   \n",
       "\n",
       "   first_browser_Stainless  first_browser_TenFourFox  \\\n",
       "0                        0                         0   \n",
       "1                        0                         0   \n",
       "2                        0                         0   \n",
       "3                        0                         0   \n",
       "4                        0                         0   \n",
       "\n",
       "   first_browser_TheWorld Browser  first_browser_Yandex.Browser  \\\n",
       "0                               0                             0   \n",
       "1                               0                             0   \n",
       "2                               0                             0   \n",
       "3                               0                             0   \n",
       "4                               0                             0   \n",
       "\n",
       "   first_browser_wOSBrowser  \n",
       "0                         0  \n",
       "1                         0  \n",
       "2                         0  \n",
       "3                         0  \n",
       "4                         0  \n",
       "\n",
       "[5 rows x 161 columns]"
      ]
     },
     "metadata": {},
     "output_type": "display_data"
    }
   ],
   "source": [
    "# Load the data:\n",
    "consolidated_dataset = pd.read_csv(\"../data/consolidated_dataset.csv\")\n",
    "\n",
    "# Check basic info:\n",
    "print(\"*** Some basic info:\")\n",
    "print(\"'consolidated_dataset' has {} data points with {} variables each.\".format(*consolidated_dataset.shape))\n",
    "print(\"'consolidated_dataset' counts {} missing values.\".format(consolidated_dataset.isnull().sum().sum()))\n",
    "\n",
    "# Give a look to the first lines:\n",
    "print(\"\\n*** First lines:\")\n",
    "display(consolidated_dataset.head())"
   ]
  },
  {
   "cell_type": "code",
   "execution_count": 4,
   "metadata": {},
   "outputs": [],
   "source": [
    "# Create training and testing datasets:\n",
    "X_train, X_test, y_train, y_test, encoding_dict = create_training_testing_datasets(consolidated_dataset)"
   ]
  },
  {
   "cell_type": "markdown",
   "metadata": {},
   "source": [
    "---\n",
    "\n",
    "## Calculate Normalized DCG scores"
   ]
  },
  {
   "cell_type": "code",
   "execution_count": 5,
   "metadata": {},
   "outputs": [],
   "source": [
    "# Set naive predictor response:\n",
    "naive_predictor_response = ['NDF', 'US', 'other', 'FR', 'IT']\n",
    "naive_predictor_encoded_response = [encoding_dict[x] for x in naive_predictor_response]"
   ]
  },
  {
   "cell_type": "markdown",
   "metadata": {},
   "source": [
    "### Training dataset"
   ]
  },
  {
   "cell_type": "code",
   "execution_count": 6,
   "metadata": {},
   "outputs": [
    {
     "name": "stdout",
     "output_type": "stream",
     "text": [
      "On training dataset, naive predictor nDCG mean score is 0.806766.\n"
     ]
    }
   ],
   "source": [
    "# Calculate nDCG on training dataset:\n",
    "\n",
    "naive_predictor_training_scores = []\n",
    "\n",
    "for country_destination in y_train:\n",
    "    ndcg_score = calculate_ndcg(naive_predictor_encoded_response, country_destination)\n",
    "    naive_predictor_training_scores.append(ndcg_score)\n",
    "\n",
    "ndcg_mean_score = np.mean(naive_predictor_training_scores)\n",
    "\n",
    "print(\"On training dataset, naive predictor nDCG mean score is {:.6f}.\".format(ndcg_mean_score))"
   ]
  },
  {
   "cell_type": "markdown",
   "metadata": {},
   "source": [
    "### Testing dataset"
   ]
  },
  {
   "cell_type": "code",
   "execution_count": 7,
   "metadata": {},
   "outputs": [
    {
     "name": "stdout",
     "output_type": "stream",
     "text": [
      "On testing dataset, naive predictor nDCG mean score is 0.806763.\n"
     ]
    }
   ],
   "source": [
    "# Calculate nDCG on testing dataset:\n",
    "\n",
    "naive_predictor_testing_scores = []\n",
    "\n",
    "for country_destination in y_test:\n",
    "    ndcg_score = calculate_ndcg(naive_predictor_encoded_response, country_destination)\n",
    "    naive_predictor_testing_scores.append(ndcg_score)\n",
    "\n",
    "ndcg_mean_score = np.mean(naive_predictor_testing_scores)\n",
    "\n",
    "print(\"On testing dataset, naive predictor nDCG mean score is {:.6f}.\".format(ndcg_mean_score))"
   ]
  },
  {
   "cell_type": "markdown",
   "metadata": {},
   "source": [
    "---\n",
    "\n",
    "## More detailed results\n",
    "\n",
    "To allow us to go further in our analysis, we are going to determine, too, naive predictor nDCG mean score for each class."
   ]
  },
  {
   "cell_type": "code",
   "execution_count": 8,
   "metadata": {},
   "outputs": [
    {
     "name": "stdout",
     "output_type": "stream",
     "text": [
      "*** More detailed results:\n",
      "nDCG mean score for AU: 0.000000\n",
      "nDCG mean score for CA: 0.000000\n",
      "nDCG mean score for DE: 0.000000\n",
      "nDCG mean score for ES: 0.000000\n",
      "nDCG mean score for FR: 0.430677\n",
      "nDCG mean score for GB: 0.000000\n",
      "nDCG mean score for IT: 0.386853\n",
      "nDCG mean score for NDF: 1.000000\n",
      "nDCG mean score for NL: 0.000000\n",
      "nDCG mean score for PT: 0.000000\n",
      "nDCG mean score for US: 0.630930\n",
      "nDCG mean score for other: 0.500000\n"
     ]
    }
   ],
   "source": [
    "# Calculate nDCG mean score for each class:\n",
    "\n",
    "decoding_dict = dict(map(reversed, encoding_dict.items()))\n",
    "ndcg_scores_dict = {country_destination: [] for country_destination in range(12)}\n",
    "ndcg_mean_scores = []\n",
    "\n",
    "for country_dest in y_test:\n",
    "    ndcg_score = calculate_ndcg(naive_predictor_encoded_response, country_dest)\n",
    "    ndcg_scores_dict[country_dest].append(ndcg_score)\n",
    "\n",
    "print(\"*** More detailed results:\")\n",
    "for country_dest in range(12):\n",
    "    ndcg_mean_scores.append(np.mean(ndcg_scores_dict[country_dest]))\n",
    "    print(\"nDCG mean score for {}: {:.6f}\".format(decoding_dict[country_dest], ndcg_mean_scores[country_dest]))"
   ]
  }
 ],
 "metadata": {
  "kernelspec": {
   "display_name": "Python 3",
   "language": "python",
   "name": "python3"
  },
  "language_info": {
   "codemirror_mode": {
    "name": "ipython",
    "version": 3
   },
   "file_extension": ".py",
   "mimetype": "text/x-python",
   "name": "python",
   "nbconvert_exporter": "python",
   "pygments_lexer": "ipython3",
   "version": "3.7.3"
  }
 },
 "nbformat": 4,
 "nbformat_minor": 4
}
