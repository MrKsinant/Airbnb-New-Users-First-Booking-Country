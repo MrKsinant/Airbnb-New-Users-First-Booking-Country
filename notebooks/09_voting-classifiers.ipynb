{
 "cells": [
  {
   "cell_type": "markdown",
   "metadata": {},
   "source": [
    "# Voting Classifiers\n",
    "---\n",
    "\n",
    "## Introduction\n",
    "\n",
    "To conclude with our attempts to try tackling the current problem, we are going to mobilize **voting classifiers**, aggregating a chosen selection of the previous models we have built.\n",
    "\n",
    "As always, the prerequisite step consists on loading the appropriate packages to perform our work:"
   ]
  },
  {
   "cell_type": "code",
   "execution_count": 1,
   "metadata": {},
   "outputs": [],
   "source": [
    "# Activate 'airbnb' environment:\n",
    "!source activate airbnb"
   ]
  },
  {
   "cell_type": "code",
   "execution_count": 2,
   "metadata": {},
   "outputs": [
    {
     "name": "stderr",
     "output_type": "stream",
     "text": [
      "/Applications/anaconda3/envs/airbnb/lib/python3.7/site-packages/sklearn/externals/joblib/__init__.py:15: DeprecationWarning: sklearn.externals.joblib is deprecated in 0.21 and will be removed in 0.23. Please import this functionality directly from joblib, which can be installed with: pip install joblib. If this warning is raised when loading pickled models, you may need to re-serialize those models with scikit-learn 0.21+.\n",
      "  warnings.warn(msg, category=DeprecationWarning)\n"
     ]
    }
   ],
   "source": [
    "# Needed packages:\n",
    "import numpy as np\n",
    "import pandas as pd\n",
    "from sklearn.externals import joblib\n",
    "from sklearn.ensemble import (RandomForestClassifier,\n",
    "                              GradientBoostingClassifier,\n",
    "                              VotingClassifier)\n",
    "from sklearn.neural_network import MLPClassifier\n",
    "from utils import (create_training_testing_datasets,\n",
    "                   calculate_dcg,\n",
    "                   calculate_ndcg,\n",
    "                   clf_prediction,\n",
    "                   ndcg_mean_score_calc,\n",
    "                   detailed_ndcg_mean_score_calc)"
   ]
  },
  {
   "cell_type": "markdown",
   "metadata": {},
   "source": [
    "---\n",
    "\n",
    "## Create training and testing datasets"
   ]
  },
  {
   "cell_type": "code",
   "execution_count": 3,
   "metadata": {},
   "outputs": [
    {
     "name": "stdout",
     "output_type": "stream",
     "text": [
      "*** Some basic info:\n",
      "'consolidated_dataset' has 213451 data points with 161 variables each.\n",
      "'consolidated_dataset' counts 0 missing values.\n",
      "\n",
      "*** First lines:\n"
     ]
    },
    {
     "data": {
      "text/html": [
       "<div>\n",
       "<style scoped>\n",
       "    .dataframe tbody tr th:only-of-type {\n",
       "        vertical-align: middle;\n",
       "    }\n",
       "\n",
       "    .dataframe tbody tr th {\n",
       "        vertical-align: top;\n",
       "    }\n",
       "\n",
       "    .dataframe thead th {\n",
       "        text-align: right;\n",
       "    }\n",
       "</style>\n",
       "<table border=\"1\" class=\"dataframe\">\n",
       "  <thead>\n",
       "    <tr style=\"text-align: right;\">\n",
       "      <th></th>\n",
       "      <th>age</th>\n",
       "      <th>country_destination</th>\n",
       "      <th>nans</th>\n",
       "      <th>day_account_created</th>\n",
       "      <th>weekday_account_created</th>\n",
       "      <th>week_account_created</th>\n",
       "      <th>month_account_created</th>\n",
       "      <th>year_account_created</th>\n",
       "      <th>day_first_active</th>\n",
       "      <th>weekday_first_active</th>\n",
       "      <th>...</th>\n",
       "      <th>first_browser_SeaMonkey</th>\n",
       "      <th>first_browser_Silk</th>\n",
       "      <th>first_browser_SiteKiosk</th>\n",
       "      <th>first_browser_SlimBrowser</th>\n",
       "      <th>first_browser_Sogou Explorer</th>\n",
       "      <th>first_browser_Stainless</th>\n",
       "      <th>first_browser_TenFourFox</th>\n",
       "      <th>first_browser_TheWorld Browser</th>\n",
       "      <th>first_browser_Yandex.Browser</th>\n",
       "      <th>first_browser_wOSBrowser</th>\n",
       "    </tr>\n",
       "  </thead>\n",
       "  <tbody>\n",
       "    <tr>\n",
       "      <th>0</th>\n",
       "      <td>-1.0</td>\n",
       "      <td>NDF</td>\n",
       "      <td>1.225078</td>\n",
       "      <td>28</td>\n",
       "      <td>0</td>\n",
       "      <td>26</td>\n",
       "      <td>6</td>\n",
       "      <td>2010</td>\n",
       "      <td>19</td>\n",
       "      <td>3</td>\n",
       "      <td>...</td>\n",
       "      <td>0</td>\n",
       "      <td>0</td>\n",
       "      <td>0</td>\n",
       "      <td>0</td>\n",
       "      <td>0</td>\n",
       "      <td>0</td>\n",
       "      <td>0</td>\n",
       "      <td>0</td>\n",
       "      <td>0</td>\n",
       "      <td>0</td>\n",
       "    </tr>\n",
       "    <tr>\n",
       "      <th>1</th>\n",
       "      <td>38.0</td>\n",
       "      <td>NDF</td>\n",
       "      <td>-0.453135</td>\n",
       "      <td>25</td>\n",
       "      <td>2</td>\n",
       "      <td>21</td>\n",
       "      <td>5</td>\n",
       "      <td>2011</td>\n",
       "      <td>23</td>\n",
       "      <td>5</td>\n",
       "      <td>...</td>\n",
       "      <td>0</td>\n",
       "      <td>0</td>\n",
       "      <td>0</td>\n",
       "      <td>0</td>\n",
       "      <td>0</td>\n",
       "      <td>0</td>\n",
       "      <td>0</td>\n",
       "      <td>0</td>\n",
       "      <td>0</td>\n",
       "      <td>0</td>\n",
       "    </tr>\n",
       "    <tr>\n",
       "      <th>2</th>\n",
       "      <td>56.0</td>\n",
       "      <td>US</td>\n",
       "      <td>-0.453135</td>\n",
       "      <td>28</td>\n",
       "      <td>1</td>\n",
       "      <td>39</td>\n",
       "      <td>9</td>\n",
       "      <td>2010</td>\n",
       "      <td>9</td>\n",
       "      <td>1</td>\n",
       "      <td>...</td>\n",
       "      <td>0</td>\n",
       "      <td>0</td>\n",
       "      <td>0</td>\n",
       "      <td>0</td>\n",
       "      <td>0</td>\n",
       "      <td>0</td>\n",
       "      <td>0</td>\n",
       "      <td>0</td>\n",
       "      <td>0</td>\n",
       "      <td>0</td>\n",
       "    </tr>\n",
       "    <tr>\n",
       "      <th>3</th>\n",
       "      <td>42.0</td>\n",
       "      <td>other</td>\n",
       "      <td>-0.453135</td>\n",
       "      <td>5</td>\n",
       "      <td>0</td>\n",
       "      <td>49</td>\n",
       "      <td>12</td>\n",
       "      <td>2011</td>\n",
       "      <td>31</td>\n",
       "      <td>5</td>\n",
       "      <td>...</td>\n",
       "      <td>0</td>\n",
       "      <td>0</td>\n",
       "      <td>0</td>\n",
       "      <td>0</td>\n",
       "      <td>0</td>\n",
       "      <td>0</td>\n",
       "      <td>0</td>\n",
       "      <td>0</td>\n",
       "      <td>0</td>\n",
       "      <td>0</td>\n",
       "    </tr>\n",
       "    <tr>\n",
       "      <th>4</th>\n",
       "      <td>41.0</td>\n",
       "      <td>US</td>\n",
       "      <td>0.385972</td>\n",
       "      <td>14</td>\n",
       "      <td>1</td>\n",
       "      <td>37</td>\n",
       "      <td>9</td>\n",
       "      <td>2010</td>\n",
       "      <td>8</td>\n",
       "      <td>1</td>\n",
       "      <td>...</td>\n",
       "      <td>0</td>\n",
       "      <td>0</td>\n",
       "      <td>0</td>\n",
       "      <td>0</td>\n",
       "      <td>0</td>\n",
       "      <td>0</td>\n",
       "      <td>0</td>\n",
       "      <td>0</td>\n",
       "      <td>0</td>\n",
       "      <td>0</td>\n",
       "    </tr>\n",
       "  </tbody>\n",
       "</table>\n",
       "<p>5 rows × 161 columns</p>\n",
       "</div>"
      ],
      "text/plain": [
       "    age country_destination      nans  day_account_created  \\\n",
       "0  -1.0                 NDF  1.225078                   28   \n",
       "1  38.0                 NDF -0.453135                   25   \n",
       "2  56.0                  US -0.453135                   28   \n",
       "3  42.0               other -0.453135                    5   \n",
       "4  41.0                  US  0.385972                   14   \n",
       "\n",
       "   weekday_account_created  week_account_created  month_account_created  \\\n",
       "0                        0                    26                      6   \n",
       "1                        2                    21                      5   \n",
       "2                        1                    39                      9   \n",
       "3                        0                    49                     12   \n",
       "4                        1                    37                      9   \n",
       "\n",
       "   year_account_created  day_first_active  weekday_first_active  ...  \\\n",
       "0                  2010                19                     3  ...   \n",
       "1                  2011                23                     5  ...   \n",
       "2                  2010                 9                     1  ...   \n",
       "3                  2011                31                     5  ...   \n",
       "4                  2010                 8                     1  ...   \n",
       "\n",
       "   first_browser_SeaMonkey  first_browser_Silk  first_browser_SiteKiosk  \\\n",
       "0                        0                   0                        0   \n",
       "1                        0                   0                        0   \n",
       "2                        0                   0                        0   \n",
       "3                        0                   0                        0   \n",
       "4                        0                   0                        0   \n",
       "\n",
       "   first_browser_SlimBrowser  first_browser_Sogou Explorer  \\\n",
       "0                          0                             0   \n",
       "1                          0                             0   \n",
       "2                          0                             0   \n",
       "3                          0                             0   \n",
       "4                          0                             0   \n",
       "\n",
       "   first_browser_Stainless  first_browser_TenFourFox  \\\n",
       "0                        0                         0   \n",
       "1                        0                         0   \n",
       "2                        0                         0   \n",
       "3                        0                         0   \n",
       "4                        0                         0   \n",
       "\n",
       "   first_browser_TheWorld Browser  first_browser_Yandex.Browser  \\\n",
       "0                               0                             0   \n",
       "1                               0                             0   \n",
       "2                               0                             0   \n",
       "3                               0                             0   \n",
       "4                               0                             0   \n",
       "\n",
       "   first_browser_wOSBrowser  \n",
       "0                         0  \n",
       "1                         0  \n",
       "2                         0  \n",
       "3                         0  \n",
       "4                         0  \n",
       "\n",
       "[5 rows x 161 columns]"
      ]
     },
     "metadata": {},
     "output_type": "display_data"
    }
   ],
   "source": [
    "# Load the data:\n",
    "consolidated_dataset = pd.read_csv(\"../data/consolidated_dataset.csv\")\n",
    "\n",
    "# Check basic info:\n",
    "print(\"*** Some basic info:\")\n",
    "print(\"'consolidated_dataset' has {} data points with {} variables each.\".format(*consolidated_dataset.shape))\n",
    "print(\"'consolidated_dataset' counts {} missing values.\".format(consolidated_dataset.isnull().sum().sum()))\n",
    "\n",
    "# Give a look to the first lines:\n",
    "print(\"\\n*** First lines:\")\n",
    "display(consolidated_dataset.head())"
   ]
  },
  {
   "cell_type": "code",
   "execution_count": 4,
   "metadata": {},
   "outputs": [],
   "source": [
    "# Create training and testing datasets:\n",
    "X_train, X_test, y_train, y_test, encoding_dict = create_training_testing_datasets(consolidated_dataset)"
   ]
  },
  {
   "cell_type": "markdown",
   "metadata": {},
   "source": [
    "---\n",
    "\n",
    "## Calculate Normalized DCG scores: \"Out-of-the-box\" voting classifier"
   ]
  },
  {
   "cell_type": "code",
   "execution_count": 5,
   "metadata": {},
   "outputs": [
    {
     "name": "stdout",
     "output_type": "stream",
     "text": [
      "Time info about classifier training:\n",
      "CPU times: user 39min 35s, sys: 45.1 s, total: 40min 21s\n",
      "Wall time: 34min 7s\n"
     ]
    }
   ],
   "source": [
    "# Calculate weight of each class:\n",
    "class_weight = {x: 0 for x in range(12)}\n",
    "for country_dest in y_train:\n",
    "    class_weight[country_dest] += 1\n",
    "\n",
    "# Initialize the classifiers in their \"optimized\" forms:\n",
    "\n",
    "rf_clf = RandomForestClassifier(random_state=42,\n",
    "                                n_estimators=77,\n",
    "                                min_samples_split=10,\n",
    "                                min_samples_leaf=1,\n",
    "                                max_features='sqrt',\n",
    "                                max_depth=None,\n",
    "                                class_weight=class_weight,\n",
    "                                bootstrap=False)\n",
    "\n",
    "gb_clf = GradientBoostingClassifier(random_state=42)\n",
    "\n",
    "mlp_clf = MLPClassifier(hidden_layer_sizes=(80, 40, 20),\n",
    "                        activation='relu',\n",
    "                        solver='adam',\n",
    "                        learning_rate_init=0.0001,\n",
    "                        max_iter=200,\n",
    "                        random_state=42,\n",
    "                        early_stopping=True,\n",
    "                        validation_fraction=0.2,\n",
    "                        n_iter_no_change=10)\n",
    "\n",
    "# Initialize the voting classifier:\n",
    "voting_clf = VotingClassifier(estimators=[('rf', rf_clf),\n",
    "                                          ('gb', gb_clf),\n",
    "                                          ('mlp', mlp_clf)],\n",
    "                              voting='soft')\n",
    "\n",
    "# Train the classifier:\n",
    "print(\"Time info about classifier training:\")\n",
    "%time ootb_voting_clf = voting_clf.fit(X_train, y_train)"
   ]
  },
  {
   "cell_type": "code",
   "execution_count": 6,
   "metadata": {},
   "outputs": [
    {
     "name": "stdout",
     "output_type": "stream",
     "text": [
      "Time info about classifier prediction:\n",
      "CPU times: user 128 ms, sys: 11.1 ms, total: 139 ms\n",
      "Wall time: 122 ms\n",
      "***\n",
      "For the classifier check:\n",
      "- Real first booking destination country: US\n",
      "- Predictions list: ['US', 'NDF', 'other', 'FR', 'ES', 'IT', 'GB', 'CA', 'DE', 'NL', 'AU', 'PT']\n"
     ]
    }
   ],
   "source": [
    "# Perform one prediction to check classifier:\n",
    "print(\"Time info about classifier prediction:\")\n",
    "%time preds_list = clf_prediction(ootb_voting_clf, X_train[0])\n",
    "print(\"***\")\n",
    "\n",
    "# Reverse encoding dictionary:\n",
    "decoding_dict = dict(map(reversed, encoding_dict.items()))\n",
    "\n",
    "# Print result:\n",
    "print(\"For the classifier check:\")\n",
    "print(\"- Real first booking destination country: {}\".format(decoding_dict[y_train[0]]))\n",
    "print(\"- Predictions list: {}\".format([decoding_dict[x] for x in preds_list]))"
   ]
  },
  {
   "cell_type": "code",
   "execution_count": 7,
   "metadata": {},
   "outputs": [
    {
     "name": "stdout",
     "output_type": "stream",
     "text": [
      "Time info about nDCG mean score calculation on training dataset:\n",
      "CPU times: user 44min 31s, sys: 50.4 s, total: 45min 21s\n",
      "Wall time: 22min 41s\n",
      "***\n",
      "On training dataset, classifier nDCG mean score is 0.869396.\n"
     ]
    }
   ],
   "source": [
    "# Calculate nDCG mean score on training dataset:\n",
    "print(\"Time info about nDCG mean score calculation on training dataset:\")\n",
    "%time ndcg_mean_score = ndcg_mean_score_calc(ootb_voting_clf, X_train, y_train)\n",
    "print(\"***\")\n",
    "print(\"On training dataset, classifier nDCG mean score is {:.6f}.\".format(ndcg_mean_score))"
   ]
  },
  {
   "cell_type": "code",
   "execution_count": 8,
   "metadata": {},
   "outputs": [
    {
     "name": "stdout",
     "output_type": "stream",
     "text": [
      "Time info about nDCG mean score calculation on testing dataset:\n",
      "CPU times: user 11min 8s, sys: 12.4 s, total: 11min 20s\n",
      "Wall time: 5min 40s\n",
      "***\n",
      "On testing dataset, classifier nDCG mean score is 0.823524.\n"
     ]
    }
   ],
   "source": [
    "# Calculate nDCG mean score on testing dataset:\n",
    "print(\"Time info about nDCG mean score calculation on testing dataset:\")\n",
    "%time ndcg_mean_score = ndcg_mean_score_calc(ootb_voting_clf, X_test, y_test)\n",
    "print(\"***\")\n",
    "print(\"On testing dataset, classifier nDCG mean score is {:.6f}.\".format(ndcg_mean_score))"
   ]
  },
  {
   "cell_type": "code",
   "execution_count": 9,
   "metadata": {},
   "outputs": [
    {
     "name": "stdout",
     "output_type": "stream",
     "text": [
      "Time info about nDCG mean score calculation for each class on testing dataset:\n",
      "CPU times: user 11min 8s, sys: 12.3 s, total: 11min 20s\n",
      "Wall time: 5min 40s\n",
      "***\n",
      "Detailed results for each class on testing dataset:\n",
      "nDCG mean score for AU: 0.000000\n",
      "nDCG mean score for CA: 0.006763\n",
      "nDCG mean score for DE: 0.007919\n",
      "nDCG mean score for ES: 0.328300\n",
      "nDCG mean score for FR: 0.427147\n",
      "nDCG mean score for GB: 0.018735\n",
      "nDCG mean score for IT: 0.054544\n",
      "nDCG mean score for NDF: 0.948974\n",
      "nDCG mean score for NL: 0.003289\n",
      "nDCG mean score for PT: 0.000000\n",
      "nDCG mean score for US: 0.793151\n",
      "nDCG mean score for other: 0.497145\n"
     ]
    }
   ],
   "source": [
    "# Calculate nDCG mean score for each class on testing dataset:\n",
    "print(\"Time info about nDCG mean score calculation for each class on testing dataset:\")\n",
    "%time ndcg_mean_scores_list = detailed_ndcg_mean_score_calc(ootb_voting_clf, X_test, y_test, encoding_dict)\n",
    "print(\"***\")\n",
    "print(\"Detailed results for each class on testing dataset:\")\n",
    "for country_dest in range(12):\n",
    "    print(\"nDCG mean score for {}: {:.6f}\".format(decoding_dict[country_dest],\n",
    "                                                  ndcg_mean_scores_list[country_dest]))"
   ]
  },
  {
   "cell_type": "code",
   "execution_count": 10,
   "metadata": {},
   "outputs": [
    {
     "data": {
      "text/plain": [
       "['../models/ootb_voting_clf.pkl']"
      ]
     },
     "execution_count": 10,
     "metadata": {},
     "output_type": "execute_result"
    }
   ],
   "source": [
    "# Save model:\n",
    "joblib.dump(ootb_voting_clf, \"../models/ootb_voting_clf.pkl\")"
   ]
  },
  {
   "cell_type": "markdown",
   "metadata": {},
   "source": [
    "---\n",
    "\n",
    "## Conclusion\n",
    "\n",
    "In this notebook, we are not going to try to obtain an \"optimized\" voting classifier, like we have done in the previous notebooks: Indeed, this process is very-long time consuming, it needs good hardware and calculation capacities.\n",
    "\n",
    "In this current project, we can't benefit from these conditions.\n",
    "\n",
    "As a quick conclusion, for the results obtained for the last \"optimized\" random forest classifier, we can note 4 major elements:\n",
    "* On testing dataset, it gets a better nDCG mean score than the one obtained by the naive model.\n",
    "* On testing dataset, it gets better nDCG mean scores for predicting correctly Canada, Germany, Spain, Great Britain, Netherlands and USA than the ones obtained by the naive model.\n",
    "* On testing dataset, it gets worse nDCG mean scores for predicting correctly France, Italy, no destination found and other than the ones obtained by the naive model.\n",
    "* On testing dataset, it is as \"bad\" as the naive model for predicting correctly Australia and Portugal."
   ]
  }
 ],
 "metadata": {
  "kernelspec": {
   "display_name": "Python 3",
   "language": "python",
   "name": "python3"
  },
  "language_info": {
   "codemirror_mode": {
    "name": "ipython",
    "version": 3
   },
   "file_extension": ".py",
   "mimetype": "text/x-python",
   "name": "python",
   "nbconvert_exporter": "python",
   "pygments_lexer": "ipython3",
   "version": "3.7.3"
  }
 },
 "nbformat": 4,
 "nbformat_minor": 4
}
